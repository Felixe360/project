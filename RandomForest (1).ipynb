{
 "cells": [
  {
   "cell_type": "code",
   "execution_count": 12,
   "id": "37871e54-fd25-4718-9d8f-feb56d152911",
   "metadata": {},
   "outputs": [],
   "source": [
    "import matplotlib.pyplot as plt\n",
    "import pandas as pd\n",
    "import seaborn as sns\n",
    "\n",
    "import pandas as pd\n",
    "from imblearn.over_sampling import RandomOverSampler\n",
    "from sklearn.metrics import confusion_matrix, ConfusionMatrixDisplay\n",
    "from sklearn.ensemble import GradientBoostingClassifier\n",
    "from sklearn.impute import SimpleImputer\n",
    "from sklearn.metrics import (\n",
    "    ConfusionMatrixDisplay,\n",
    "    classification_report,\n",
    "    confusion_matrix,\n",
    ")\n",
    "from sklearn.model_selection import GridSearchCV, train_test_split\n",
    "from sklearn.pipeline import make_pipeline\n",
    "\n"
   ]
  },
  {
   "cell_type": "code",
   "execution_count": 14,
   "id": "d70b18d7-5009-40ff-b7f7-f443757abe63",
   "metadata": {},
   "outputs": [
    {
     "name": "stdout",
     "output_type": "stream",
     "text": [
      "/Users/felixelias/Downloads\n"
     ]
    }
   ],
   "source": [
    "import os\n",
    "\n",
    "# Get the current working directory\n",
    "current_directory = os.getcwd()\n",
    "print(current_directory)"
   ]
  },
  {
   "cell_type": "code",
   "execution_count": 62,
   "id": "5c58a4ce-9af2-4fe4-b49b-73c5736f9dfd",
   "metadata": {},
   "outputs": [
    {
     "name": "stdout",
     "output_type": "stream",
     "text": [
      "['Operating Profit Rate', 'Operating Profit Per Share (Yuan ¥)', 'Per Share Net profit before tax (Yuan ¥)', 'Realized Sales Gross Profit Growth Rate', 'Operating Profit Growth Rate', 'After-tax Net Profit Growth Rate', 'Regular Net Profit Growth Rate', 'Continuous Net Profit Growth Rate', 'Operating profit/Paid-in capital', 'Net profit before tax/Paid-in capital', 'Operating profit per person', 'Gross Profit to Sales']\n"
     ]
    }
   ],
   "source": [
    "df=pd.read_csv('taiwanese_bankruptcy.csv')\n",
    "df.columns # columns have space in the begining\n",
    "\n",
    "col_names=[]\n",
    "for c in df.columns:\n",
    "    col_names.append(c[1:])\n",
    "    \n",
    "col_names[0]='bankrupt'\n",
    "col_names[0]\n",
    "\n",
    "#use new names for df\n",
    "df.columns=col_names\n",
    "\n",
    "df_s = df.columns[df.columns.str.contains('profit', case=False)].tolist()\n",
    "print(df_s)"
   ]
  },
  {
   "cell_type": "code",
   "execution_count": 43,
   "id": "b5f56673-2567-4b95-980b-8c26db2ad089",
   "metadata": {},
   "outputs": [
    {
     "data": {
      "text/plain": [
       "bankrupt                                                   0\n",
       "ROA(C) before interest and depreciation before interest    0\n",
       "ROA(A) before interest and % after tax                     0\n",
       "ROA(B) before interest and depreciation after tax          0\n",
       "Operating Gross Margin                                     0\n",
       "                                                          ..\n",
       "Liability to Equity                                        0\n",
       "Degree of Financial Leverage (DFL)                         0\n",
       "Interest Coverage Ratio (Interest expense to EBIT)         0\n",
       "Net Income Flag                                            0\n",
       "Equity to Liability                                        0\n",
       "Length: 96, dtype: int64"
      ]
     },
     "execution_count": 43,
     "metadata": {},
     "output_type": "execute_result"
    }
   ],
   "source": [
    "#check for missing values\n",
    "df.isna().sum()"
   ]
  },
  {
   "cell_type": "code",
   "execution_count": 44,
   "id": "51a2ce99-a217-40d4-998a-a6cdca41903f",
   "metadata": {},
   "outputs": [
    {
     "name": "stdout",
     "output_type": "stream",
     "text": [
      "<class 'pandas.core.frame.DataFrame'>\n",
      "RangeIndex: 6819 entries, 0 to 6818\n",
      "Data columns (total 96 columns):\n",
      " #   Column                                                   Non-Null Count  Dtype  \n",
      "---  ------                                                   --------------  -----  \n",
      " 0   bankrupt                                                 6819 non-null   int64  \n",
      " 1   ROA(C) before interest and depreciation before interest  6819 non-null   float64\n",
      " 2   ROA(A) before interest and % after tax                   6819 non-null   float64\n",
      " 3   ROA(B) before interest and depreciation after tax        6819 non-null   float64\n",
      " 4   Operating Gross Margin                                   6819 non-null   float64\n",
      " 5   Realized Sales Gross Margin                              6819 non-null   float64\n",
      " 6   Operating Profit Rate                                    6819 non-null   float64\n",
      " 7   Pre-tax net Interest Rate                                6819 non-null   float64\n",
      " 8   After-tax net Interest Rate                              6819 non-null   float64\n",
      " 9   Non-industry income and expenditure/revenue              6819 non-null   float64\n",
      " 10  Continuous interest rate (after tax)                     6819 non-null   float64\n",
      " 11  Operating Expense Rate                                   6819 non-null   float64\n",
      " 12  Research and development expense rate                    6819 non-null   float64\n",
      " 13  Cash flow rate                                           6819 non-null   float64\n",
      " 14  Interest-bearing debt interest rate                      6819 non-null   float64\n",
      " 15  Tax rate (A)                                             6819 non-null   float64\n",
      " 16  Net Value Per Share (B)                                  6819 non-null   float64\n",
      " 17  Net Value Per Share (A)                                  6819 non-null   float64\n",
      " 18  Net Value Per Share (C)                                  6819 non-null   float64\n",
      " 19  Persistent EPS in the Last Four Seasons                  6819 non-null   float64\n",
      " 20  Cash Flow Per Share                                      6819 non-null   float64\n",
      " 21  Revenue Per Share (Yuan ¥)                               6819 non-null   float64\n",
      " 22  Operating Profit Per Share (Yuan ¥)                      6819 non-null   float64\n",
      " 23  Per Share Net profit before tax (Yuan ¥)                 6819 non-null   float64\n",
      " 24  Realized Sales Gross Profit Growth Rate                  6819 non-null   float64\n",
      " 25  Operating Profit Growth Rate                             6819 non-null   float64\n",
      " 26  After-tax Net Profit Growth Rate                         6819 non-null   float64\n",
      " 27  Regular Net Profit Growth Rate                           6819 non-null   float64\n",
      " 28  Continuous Net Profit Growth Rate                        6819 non-null   float64\n",
      " 29  Total Asset Growth Rate                                  6819 non-null   float64\n",
      " 30  Net Value Growth Rate                                    6819 non-null   float64\n",
      " 31  Total Asset Return Growth Rate Ratio                     6819 non-null   float64\n",
      " 32  Cash Reinvestment %                                      6819 non-null   float64\n",
      " 33  Current Ratio                                            6819 non-null   float64\n",
      " 34  Quick Ratio                                              6819 non-null   float64\n",
      " 35  Interest Expense Ratio                                   6819 non-null   float64\n",
      " 36  Total debt/Total net worth                               6819 non-null   float64\n",
      " 37  Debt ratio %                                             6819 non-null   float64\n",
      " 38  Net worth/Assets                                         6819 non-null   float64\n",
      " 39  Long-term fund suitability ratio (A)                     6819 non-null   float64\n",
      " 40  Borrowing dependency                                     6819 non-null   float64\n",
      " 41  Contingent liabilities/Net worth                         6819 non-null   float64\n",
      " 42  Operating profit/Paid-in capital                         6819 non-null   float64\n",
      " 43  Net profit before tax/Paid-in capital                    6819 non-null   float64\n",
      " 44  Inventory and accounts receivable/Net value              6819 non-null   float64\n",
      " 45  Total Asset Turnover                                     6819 non-null   float64\n",
      " 46  Accounts Receivable Turnover                             6819 non-null   float64\n",
      " 47  Average Collection Days                                  6819 non-null   float64\n",
      " 48  Inventory Turnover Rate (times)                          6819 non-null   float64\n",
      " 49  Fixed Assets Turnover Frequency                          6819 non-null   float64\n",
      " 50  Net Worth Turnover Rate (times)                          6819 non-null   float64\n",
      " 51  Revenue per person                                       6819 non-null   float64\n",
      " 52  Operating profit per person                              6819 non-null   float64\n",
      " 53  Allocation rate per person                               6819 non-null   float64\n",
      " 54  Working Capital to Total Assets                          6819 non-null   float64\n",
      " 55  Quick Assets/Total Assets                                6819 non-null   float64\n",
      " 56  Current Assets/Total Assets                              6819 non-null   float64\n",
      " 57  Cash/Total Assets                                        6819 non-null   float64\n",
      " 58  Quick Assets/Current Liability                           6819 non-null   float64\n",
      " 59  Cash/Current Liability                                   6819 non-null   float64\n",
      " 60  Current Liability to Assets                              6819 non-null   float64\n",
      " 61  Operating Funds to Liability                             6819 non-null   float64\n",
      " 62  Inventory/Working Capital                                6819 non-null   float64\n",
      " 63  Inventory/Current Liability                              6819 non-null   float64\n",
      " 64  Current Liabilities/Liability                            6819 non-null   float64\n",
      " 65  Working Capital/Equity                                   6819 non-null   float64\n",
      " 66  Current Liabilities/Equity                               6819 non-null   float64\n",
      " 67  Long-term Liability to Current Assets                    6819 non-null   float64\n",
      " 68  Retained Earnings to Total Assets                        6819 non-null   float64\n",
      " 69  Total income/Total expense                               6819 non-null   float64\n",
      " 70  Total expense/Assets                                     6819 non-null   float64\n",
      " 71  Current Asset Turnover Rate                              6819 non-null   float64\n",
      " 72  Quick Asset Turnover Rate                                6819 non-null   float64\n",
      " 73  Working capitcal Turnover Rate                           6819 non-null   float64\n",
      " 74  Cash Turnover Rate                                       6819 non-null   float64\n",
      " 75  Cash Flow to Sales                                       6819 non-null   float64\n",
      " 76  Fixed Assets to Assets                                   6819 non-null   float64\n",
      " 77  Current Liability to Liability                           6819 non-null   float64\n",
      " 78  Current Liability to Equity                              6819 non-null   float64\n",
      " 79  Equity to Long-term Liability                            6819 non-null   float64\n",
      " 80  Cash Flow to Total Assets                                6819 non-null   float64\n",
      " 81  Cash Flow to Liability                                   6819 non-null   float64\n",
      " 82  CFO to Assets                                            6819 non-null   float64\n",
      " 83  Cash Flow to Equity                                      6819 non-null   float64\n",
      " 84  Current Liability to Current Assets                      6819 non-null   float64\n",
      " 85  Liability-Assets Flag                                    6819 non-null   int64  \n",
      " 86  Net Income to Total Assets                               6819 non-null   float64\n",
      " 87  Total assets to GNP price                                6819 non-null   float64\n",
      " 88  No-credit Interval                                       6819 non-null   float64\n",
      " 89  Gross Profit to Sales                                    6819 non-null   float64\n",
      " 90  Net Income to Stockholder's Equity                       6819 non-null   float64\n",
      " 91  Liability to Equity                                      6819 non-null   float64\n",
      " 92  Degree of Financial Leverage (DFL)                       6819 non-null   float64\n",
      " 93  Interest Coverage Ratio (Interest expense to EBIT)       6819 non-null   float64\n",
      " 94  Net Income Flag                                          6819 non-null   int64  \n",
      " 95  Equity to Liability                                      6819 non-null   float64\n",
      "dtypes: float64(93), int64(3)\n",
      "memory usage: 5.0 MB\n"
     ]
    }
   ],
   "source": [
    "df.info()"
   ]
  },
  {
   "cell_type": "code",
   "execution_count": 46,
   "id": "debf64b7-d7bb-40fa-bdf6-a7dc4c83e1ca",
   "metadata": {},
   "outputs": [
    {
     "data": {
      "text/plain": [
       "<Axes: title={'center': 'Class Balance'}, xlabel='Bankrupt', ylabel='Frequency'>"
      ]
     },
     "execution_count": 46,
     "metadata": {},
     "output_type": "execute_result"
    },
    {
     "data": {
      "image/png": "[encoded data removed]",
      "text/plain": [
       "<Figure size 640x480 with 1 Axes>"
      ]
     },
     "metadata": {},
     "output_type": "display_data"
    }
   ],
   "source": [
    "#Inspect the target variable\n",
    "df['bankrupt'].value_counts(normalize=True).plot(kind='bar', xlabel='Bankrupt', ylabel='Frequency', title='Class Balance')"
   ]
  },
  {
   "cell_type": "markdown",
   "id": "9e167fd3-bb14-4c8d-b7d0-f1cb288379cc",
   "metadata": {},
   "source": [
    "Figure comments: The graph does show an imbalanced dataset, where our False class is far bigger than our True class.  "
   ]
  },
  {
   "cell_type": "code",
   "execution_count": 65,
   "id": "5a309d34-2b95-4eab-8e5d-2d879344d538",
   "metadata": {},
   "outputs": [
    {
     "name": "stdout",
     "output_type": "stream",
     "text": [
      "X shape: (6819, 95)\n",
      "y shape: (6819,)\n"
     ]
    }
   ],
   "source": [
    "#Split the data\n",
    "\n",
    "target = 'bankrupt'\n",
    "X = df.drop(columns=target)\n",
    "y = df[target]\n",
    "print(\"X shape:\", X.shape)\n",
    "print(\"y shape:\", y.shape)"
   ]
  },
  {
   "cell_type": "code",
   "execution_count": 66,
   "id": "460e5861-777a-4893-a513-30bcab99fc6e",
   "metadata": {},
   "outputs": [
    {
     "name": "stdout",
     "output_type": "stream",
     "text": [
      "X_train shape: (5455, 95)\n",
      "y_train shape: (5455,)\n",
      "X_test shape: (1364, 95)\n",
      "y_test shape: (1364,)\n"
     ]
    }
   ],
   "source": [
    "#divide data into training and testing sets\n",
    "X_train, X_test, y_train, y_test = train_test_split(X,y, test_size=.2, random_state=42)\n",
    "print(\"X_train shape:\", X_train.shape)\n",
    "print(\"y_train shape:\", y_train.shape)\n",
    "print(\"X_test shape:\", X_test.shape)\n",
    "print(\"y_test shape:\", y_test.shape)"
   ]
  },
  {
   "cell_type": "markdown",
   "id": "454dd8e3-7eb9-4b33-941b-7489668e16ea",
   "metadata": {},
   "source": [
    "Given the imbalanced dataset, one strategy that can be used is to use the over-sampling technique which involves increasing the number of observations in the True class by randomly making copies of the existing observations\n"
   ]
  },
  {
   "cell_type": "code",
   "execution_count": 67,
   "id": "0445e37e-11e5-42e3-a19d-22d3dd6d27eb",
   "metadata": {},
   "outputs": [
    {
     "name": "stdout",
     "output_type": "stream",
     "text": [
      "X_train_over shape: (10572, 95)\n"
     ]
    },
    {
     "data": {
      "text/html": [
       "<div>\n",
       "<style scoped>\n",
       "    .dataframe tbody tr th:only-of-type {\n",
       "        vertical-align: middle;\n",
       "    }\n",
       "\n",
       "    .dataframe tbody tr th {\n",
       "        vertical-align: top;\n",
       "    }\n",
       "\n",
       "    .dataframe thead th {\n",
       "        text-align: right;\n",
       "    }\n",
       "</style>\n",
       "<table border=\"1\" class=\"dataframe\">\n",
       "  <thead>\n",
       "    <tr style=\"text-align: right;\">\n",
       "      <th></th>\n",
       "      <th>ROA(C) before interest and depreciation before interest</th>\n",
       "      <th>ROA(A) before interest and % after tax</th>\n",
       "      <th>ROA(B) before interest and depreciation after tax</th>\n",
       "      <th>Operating Gross Margin</th>\n",
       "      <th>Realized Sales Gross Margin</th>\n",
       "      <th>Operating Profit Rate</th>\n",
       "      <th>Pre-tax net Interest Rate</th>\n",
       "      <th>After-tax net Interest Rate</th>\n",
       "      <th>Non-industry income and expenditure/revenue</th>\n",
       "      <th>Continuous interest rate (after tax)</th>\n",
       "      <th>...</th>\n",
       "      <th>Net Income to Total Assets</th>\n",
       "      <th>Total assets to GNP price</th>\n",
       "      <th>No-credit Interval</th>\n",
       "      <th>Gross Profit to Sales</th>\n",
       "      <th>Net Income to Stockholder's Equity</th>\n",
       "      <th>Liability to Equity</th>\n",
       "      <th>Degree of Financial Leverage (DFL)</th>\n",
       "      <th>Interest Coverage Ratio (Interest expense to EBIT)</th>\n",
       "      <th>Net Income Flag</th>\n",
       "      <th>Equity to Liability</th>\n",
       "    </tr>\n",
       "  </thead>\n",
       "  <tbody>\n",
       "    <tr>\n",
       "      <th>0</th>\n",
       "      <td>0.498513</td>\n",
       "      <td>0.542848</td>\n",
       "      <td>0.544622</td>\n",
       "      <td>0.599194</td>\n",
       "      <td>0.599036</td>\n",
       "      <td>0.998986</td>\n",
       "      <td>0.797412</td>\n",
       "      <td>0.809330</td>\n",
       "      <td>0.303528</td>\n",
       "      <td>0.781593</td>\n",
       "      <td>...</td>\n",
       "      <td>0.801313</td>\n",
       "      <td>0.005821</td>\n",
       "      <td>0.623649</td>\n",
       "      <td>0.599196</td>\n",
       "      <td>0.840580</td>\n",
       "      <td>0.282564</td>\n",
       "      <td>0.027239</td>\n",
       "      <td>0.566658</td>\n",
       "      <td>1</td>\n",
       "      <td>0.022512</td>\n",
       "    </tr>\n",
       "    <tr>\n",
       "      <th>1</th>\n",
       "      <td>0.506606</td>\n",
       "      <td>0.562309</td>\n",
       "      <td>0.558863</td>\n",
       "      <td>0.609334</td>\n",
       "      <td>0.609334</td>\n",
       "      <td>0.999027</td>\n",
       "      <td>0.797450</td>\n",
       "      <td>0.809375</td>\n",
       "      <td>0.303508</td>\n",
       "      <td>0.781637</td>\n",
       "      <td>...</td>\n",
       "      <td>0.810914</td>\n",
       "      <td>0.000481</td>\n",
       "      <td>0.623932</td>\n",
       "      <td>0.609332</td>\n",
       "      <td>0.841339</td>\n",
       "      <td>0.280570</td>\n",
       "      <td>0.026843</td>\n",
       "      <td>0.565395</td>\n",
       "      <td>1</td>\n",
       "      <td>0.026670</td>\n",
       "    </tr>\n",
       "    <tr>\n",
       "      <th>2</th>\n",
       "      <td>0.508799</td>\n",
       "      <td>0.561001</td>\n",
       "      <td>0.554687</td>\n",
       "      <td>0.614242</td>\n",
       "      <td>0.614055</td>\n",
       "      <td>0.999094</td>\n",
       "      <td>0.797533</td>\n",
       "      <td>0.809424</td>\n",
       "      <td>0.303514</td>\n",
       "      <td>0.781692</td>\n",
       "      <td>...</td>\n",
       "      <td>0.809740</td>\n",
       "      <td>0.001397</td>\n",
       "      <td>0.623714</td>\n",
       "      <td>0.614241</td>\n",
       "      <td>0.840969</td>\n",
       "      <td>0.277772</td>\n",
       "      <td>0.026864</td>\n",
       "      <td>0.565484</td>\n",
       "      <td>1</td>\n",
       "      <td>0.041556</td>\n",
       "    </tr>\n",
       "    <tr>\n",
       "      <th>3</th>\n",
       "      <td>0.499976</td>\n",
       "      <td>0.562527</td>\n",
       "      <td>0.546764</td>\n",
       "      <td>0.597825</td>\n",
       "      <td>0.597825</td>\n",
       "      <td>0.999004</td>\n",
       "      <td>0.797411</td>\n",
       "      <td>0.809329</td>\n",
       "      <td>0.303490</td>\n",
       "      <td>0.781590</td>\n",
       "      <td>...</td>\n",
       "      <td>0.810082</td>\n",
       "      <td>0.000998</td>\n",
       "      <td>0.623986</td>\n",
       "      <td>0.597824</td>\n",
       "      <td>0.841885</td>\n",
       "      <td>0.286871</td>\n",
       "      <td>0.026951</td>\n",
       "      <td>0.565820</td>\n",
       "      <td>1</td>\n",
       "      <td>0.018173</td>\n",
       "    </tr>\n",
       "    <tr>\n",
       "      <th>4</th>\n",
       "      <td>0.477892</td>\n",
       "      <td>0.547700</td>\n",
       "      <td>0.529150</td>\n",
       "      <td>0.600362</td>\n",
       "      <td>0.600362</td>\n",
       "      <td>0.998975</td>\n",
       "      <td>0.797412</td>\n",
       "      <td>0.809333</td>\n",
       "      <td>0.303551</td>\n",
       "      <td>0.781584</td>\n",
       "      <td>...</td>\n",
       "      <td>0.804638</td>\n",
       "      <td>0.002826</td>\n",
       "      <td>0.623845</td>\n",
       "      <td>0.600363</td>\n",
       "      <td>0.840885</td>\n",
       "      <td>0.282073</td>\n",
       "      <td>0.026959</td>\n",
       "      <td>0.565848</td>\n",
       "      <td>1</td>\n",
       "      <td>0.023328</td>\n",
       "    </tr>\n",
       "  </tbody>\n",
       "</table>\n",
       "<p>5 rows × 95 columns</p>\n",
       "</div>"
      ],
      "text/plain": [
       "   ROA(C) before interest and depreciation before interest  \\\n",
       "0                                           0.498513         \n",
       "1                                           0.506606         \n",
       "2                                           0.508799         \n",
       "3                                           0.499976         \n",
       "4                                           0.477892         \n",
       "\n",
       "   ROA(A) before interest and % after tax  \\\n",
       "0                                0.542848   \n",
       "1                                0.562309   \n",
       "2                                0.561001   \n",
       "3                                0.562527   \n",
       "4                                0.547700   \n",
       "\n",
       "   ROA(B) before interest and depreciation after tax  Operating Gross Margin  \\\n",
       "0                                           0.544622                0.599194   \n",
       "1                                           0.558863                0.609334   \n",
       "2                                           0.554687                0.614242   \n",
       "3                                           0.546764                0.597825   \n",
       "4                                           0.529150                0.600362   \n",
       "\n",
       "   Realized Sales Gross Margin  Operating Profit Rate  \\\n",
       "0                     0.599036               0.998986   \n",
       "1                     0.609334               0.999027   \n",
       "2                     0.614055               0.999094   \n",
       "3                     0.597825               0.999004   \n",
       "4                     0.600362               0.998975   \n",
       "\n",
       "   Pre-tax net Interest Rate  After-tax net Interest Rate  \\\n",
       "0                   0.797412                     0.809330   \n",
       "1                   0.797450                     0.809375   \n",
       "2                   0.797533                     0.809424   \n",
       "3                   0.797411                     0.809329   \n",
       "4                   0.797412                     0.809333   \n",
       "\n",
       "   Non-industry income and expenditure/revenue  \\\n",
       "0                                     0.303528   \n",
       "1                                     0.303508   \n",
       "2                                     0.303514   \n",
       "3                                     0.303490   \n",
       "4                                     0.303551   \n",
       "\n",
       "   Continuous interest rate (after tax)  ...  Net Income to Total Assets  \\\n",
       "0                              0.781593  ...                    0.801313   \n",
       "1                              0.781637  ...                    0.810914   \n",
       "2                              0.781692  ...                    0.809740   \n",
       "3                              0.781590  ...                    0.810082   \n",
       "4                              0.781584  ...                    0.804638   \n",
       "\n",
       "   Total assets to GNP price  No-credit Interval  Gross Profit to Sales  \\\n",
       "0                   0.005821            0.623649               0.599196   \n",
       "1                   0.000481            0.623932               0.609332   \n",
       "2                   0.001397            0.623714               0.614241   \n",
       "3                   0.000998            0.623986               0.597824   \n",
       "4                   0.002826            0.623845               0.600363   \n",
       "\n",
       "   Net Income to Stockholder's Equity  Liability to Equity  \\\n",
       "0                            0.840580             0.282564   \n",
       "1                            0.841339             0.280570   \n",
       "2                            0.840969             0.277772   \n",
       "3                            0.841885             0.286871   \n",
       "4                            0.840885             0.282073   \n",
       "\n",
       "   Degree of Financial Leverage (DFL)  \\\n",
       "0                            0.027239   \n",
       "1                            0.026843   \n",
       "2                            0.026864   \n",
       "3                            0.026951   \n",
       "4                            0.026959   \n",
       "\n",
       "   Interest Coverage Ratio (Interest expense to EBIT)  Net Income Flag  \\\n",
       "0                                           0.566658                 1   \n",
       "1                                           0.565395                 1   \n",
       "2                                           0.565484                 1   \n",
       "3                                           0.565820                 1   \n",
       "4                                           0.565848                 1   \n",
       "\n",
       "   Equity to Liability  \n",
       "0             0.022512  \n",
       "1             0.026670  \n",
       "2             0.041556  \n",
       "3             0.018173  \n",
       "4             0.023328  \n",
       "\n",
       "[5 rows x 95 columns]"
      ]
     },
     "execution_count": 67,
     "metadata": {},
     "output_type": "execute_result"
    }
   ],
   "source": [
    "#over-sampling technique\n",
    "over_sampler = RandomOverSampler(random_state=42)\n",
    "X_train_over, y_train_over = X_train_over, y_train_over = over_sampler.fit_resample(X_train, y_train)\n",
    "print(\"X_train_over shape:\", X_train_over.shape)\n",
    "X_train_over.head()"
   ]
  },
  {
   "cell_type": "code",
   "execution_count": 68,
   "id": "4c7bccdd-5844-4e28-9c16-bc1d103843e7",
   "metadata": {},
   "outputs": [
    {
     "data": {
      "text/html": [
       "<style>#sk-container-id-1 {color: black;background-color: white;}#sk-container-id-1 pre{padding: 0;}#sk-container-id-1 div.sk-toggleable {background-color: white;}#sk-container-id-1 label.sk-toggleable__label {cursor: pointer;display: block;width: 100%;margin-bottom: 0;padding: 0.3em;box-sizing: border-box;text-align: center;}#sk-container-id-1 label.sk-toggleable__label-arrow:before {content: \"▸\";float: left;margin-right: 0.25em;color: #696969;}#sk-container-id-1 label.sk-toggleable__label-arrow:hover:before {color: black;}#sk-container-id-1 div.sk-estimator:hover label.sk-toggleable__label-arrow:before {color: black;}#sk-container-id-1 div.sk-toggleable__content {max-height: 0;max-width: 0;overflow: hidden;text-align: left;background-color: #f0f8ff;}#sk-container-id-1 div.sk-toggleable__content pre {margin: 0.2em;color: black;border-radius: 0.25em;background-color: #f0f8ff;}#sk-container-id-1 input.sk-toggleable__control:checked~div.sk-toggleable__content {max-height: 200px;max-width: 100%;overflow: auto;}#sk-container-id-1 input.sk-toggleable__control:checked~label.sk-toggleable__label-arrow:before {content: \"▾\";}#sk-container-id-1 div.sk-estimator input.sk-toggleable__control:checked~label.sk-toggleable__label {background-color: #d4ebff;}#sk-container-id-1 div.sk-label input.sk-toggleable__control:checked~label.sk-toggleable__label {background-color: #d4ebff;}#sk-container-id-1 input.sk-hidden--visually {border: 0;clip: rect(1px 1px 1px 1px);clip: rect(1px, 1px, 1px, 1px);height: 1px;margin: -1px;overflow: hidden;padding: 0;position: absolute;width: 1px;}#sk-container-id-1 div.sk-estimator {font-family: monospace;background-color: #f0f8ff;border: 1px dotted black;border-radius: 0.25em;box-sizing: border-box;margin-bottom: 0.5em;}#sk-container-id-1 div.sk-estimator:hover {background-color: #d4ebff;}#sk-container-id-1 div.sk-parallel-item::after {content: \"\";width: 100%;border-bottom: 1px solid gray;flex-grow: 1;}#sk-container-id-1 div.sk-label:hover label.sk-toggleable__label {background-color: #d4ebff;}#sk-container-id-1 div.sk-serial::before {content: \"\";position: absolute;border-left: 1px solid gray;box-sizing: border-box;top: 0;bottom: 0;left: 50%;z-index: 0;}#sk-container-id-1 div.sk-serial {display: flex;flex-direction: column;align-items: center;background-color: white;padding-right: 0.2em;padding-left: 0.2em;position: relative;}#sk-container-id-1 div.sk-item {position: relative;z-index: 1;}#sk-container-id-1 div.sk-parallel {display: flex;align-items: stretch;justify-content: center;background-color: white;position: relative;}#sk-container-id-1 div.sk-item::before, #sk-container-id-1 div.sk-parallel-item::before {content: \"\";position: absolute;border-left: 1px solid gray;box-sizing: border-box;top: 0;bottom: 0;left: 50%;z-index: -1;}#sk-container-id-1 div.sk-parallel-item {display: flex;flex-direction: column;z-index: 1;position: relative;background-color: white;}#sk-container-id-1 div.sk-parallel-item:first-child::after {align-self: flex-end;width: 50%;}#sk-container-id-1 div.sk-parallel-item:last-child::after {align-self: flex-start;width: 50%;}#sk-container-id-1 div.sk-parallel-item:only-child::after {width: 0;}#sk-container-id-1 div.sk-dashed-wrapped {border: 1px dashed gray;margin: 0 0.4em 0.5em 0.4em;box-sizing: border-box;padding-bottom: 0.4em;background-color: white;}#sk-container-id-1 div.sk-label label {font-family: monospace;font-weight: bold;display: inline-block;line-height: 1.2em;}#sk-container-id-1 div.sk-label-container {text-align: center;}#sk-container-id-1 div.sk-container {/* jupyter's `normalize.less` sets `[hidden] { display: none; }` but bootstrap.min.css set `[hidden] { display: none !important; }` so we also need the `!important` here to be able to override the default hidden behavior on the sphinx rendered scikit-learn.org. See: https://github.com/scikit-learn/scikit-learn/issues/21755 */display: inline-block !important;position: relative;}#sk-container-id-1 div.sk-text-repr-fallback {display: none;}</style><div id=\"sk-container-id-1\" class=\"sk-top-container\"><div class=\"sk-text-repr-fallback\"><pre>RandomForestClassifier(random_state=42)</pre><b>In a Jupyter environment, please rerun this cell to show the HTML representation or trust the notebook. <br />On GitHub, the HTML representation is unable to render, please try loading this page with nbviewer.org.</b></div><div class=\"sk-container\" hidden><div class=\"sk-item\"><div class=\"sk-estimator sk-toggleable\"><input class=\"sk-toggleable__control sk-hidden--visually\" id=\"sk-estimator-id-1\" type=\"checkbox\" checked><label for=\"sk-estimator-id-1\" class=\"sk-toggleable__label sk-toggleable__label-arrow\">RandomForestClassifier</label><div class=\"sk-toggleable__content\"><pre>RandomForestClassifier(random_state=42)</pre></div></div></div></div></div>"
      ],
      "text/plain": [
       "RandomForestClassifier(random_state=42)"
      ]
     },
     "execution_count": 68,
     "metadata": {},
     "output_type": "execute_result"
    }
   ],
   "source": [
    "#model building\n",
    "from sklearn.ensemble import RandomForestClassifier\n",
    "clf =RandomForestClassifier(random_state=42)\n",
    "clf.fit(X_train_over, y_train_over)"
   ]
  },
  {
   "cell_type": "code",
   "execution_count": 69,
   "id": "3024e4b9-109b-4125-af6c-9813c6a09721",
   "metadata": {},
   "outputs": [
    {
     "name": "stdout",
     "output_type": "stream",
     "text": [
      "[0.99243499 0.99432624 0.99432356 0.99668874 0.99432356]\n"
     ]
    }
   ],
   "source": [
    "#cross validation\n",
    "from sklearn.model_selection import cross_val_score\n",
    "cv_scores = cross_val_score(clf, X_train_over, y_train_over, cv=5)\n",
    "print(cv_scores)"
   ]
  },
  {
   "cell_type": "code",
   "execution_count": 70,
   "id": "e611726a-6692-401b-89b2-ce3ff12d3b4f",
   "metadata": {},
   "outputs": [],
   "source": [
    "#dictionary of hyperparameters for the model\n",
    "params = {\n",
    "    'n_estimators': range(25, 100, 25),  # Number of estimators for RandomForest\n",
    "    'max_depth': range(10, 50, 10),       # Maximum depth for trees\n",
    "}"
   ]
  },
  {
   "cell_type": "code",
   "execution_count": 71,
   "id": "ad763730-37f8-4340-a41c-c188d8123574",
   "metadata": {},
   "outputs": [
    {
     "data": {
      "text/html": [
       "<style>#sk-container-id-2 {color: black;background-color: white;}#sk-container-id-2 pre{padding: 0;}#sk-container-id-2 div.sk-toggleable {background-color: white;}#sk-container-id-2 label.sk-toggleable__label {cursor: pointer;display: block;width: 100%;margin-bottom: 0;padding: 0.3em;box-sizing: border-box;text-align: center;}#sk-container-id-2 label.sk-toggleable__label-arrow:before {content: \"▸\";float: left;margin-right: 0.25em;color: #696969;}#sk-container-id-2 label.sk-toggleable__label-arrow:hover:before {color: black;}#sk-container-id-2 div.sk-estimator:hover label.sk-toggleable__label-arrow:before {color: black;}#sk-container-id-2 div.sk-toggleable__content {max-height: 0;max-width: 0;overflow: hidden;text-align: left;background-color: #f0f8ff;}#sk-container-id-2 div.sk-toggleable__content pre {margin: 0.2em;color: black;border-radius: 0.25em;background-color: #f0f8ff;}#sk-container-id-2 input.sk-toggleable__control:checked~div.sk-toggleable__content {max-height: 200px;max-width: 100%;overflow: auto;}#sk-container-id-2 input.sk-toggleable__control:checked~label.sk-toggleable__label-arrow:before {content: \"▾\";}#sk-container-id-2 div.sk-estimator input.sk-toggleable__control:checked~label.sk-toggleable__label {background-color: #d4ebff;}#sk-container-id-2 div.sk-label input.sk-toggleable__control:checked~label.sk-toggleable__label {background-color: #d4ebff;}#sk-container-id-2 input.sk-hidden--visually {border: 0;clip: rect(1px 1px 1px 1px);clip: rect(1px, 1px, 1px, 1px);height: 1px;margin: -1px;overflow: hidden;padding: 0;position: absolute;width: 1px;}#sk-container-id-2 div.sk-estimator {font-family: monospace;background-color: #f0f8ff;border: 1px dotted black;border-radius: 0.25em;box-sizing: border-box;margin-bottom: 0.5em;}#sk-container-id-2 div.sk-estimator:hover {background-color: #d4ebff;}#sk-container-id-2 div.sk-parallel-item::after {content: \"\";width: 100%;border-bottom: 1px solid gray;flex-grow: 1;}#sk-container-id-2 div.sk-label:hover label.sk-toggleable__label {background-color: #d4ebff;}#sk-container-id-2 div.sk-serial::before {content: \"\";position: absolute;border-left: 1px solid gray;box-sizing: border-box;top: 0;bottom: 0;left: 50%;z-index: 0;}#sk-container-id-2 div.sk-serial {display: flex;flex-direction: column;align-items: center;background-color: white;padding-right: 0.2em;padding-left: 0.2em;position: relative;}#sk-container-id-2 div.sk-item {position: relative;z-index: 1;}#sk-container-id-2 div.sk-parallel {display: flex;align-items: stretch;justify-content: center;background-color: white;position: relative;}#sk-container-id-2 div.sk-item::before, #sk-container-id-2 div.sk-parallel-item::before {content: \"\";position: absolute;border-left: 1px solid gray;box-sizing: border-box;top: 0;bottom: 0;left: 50%;z-index: -1;}#sk-container-id-2 div.sk-parallel-item {display: flex;flex-direction: column;z-index: 1;position: relative;background-color: white;}#sk-container-id-2 div.sk-parallel-item:first-child::after {align-self: flex-end;width: 50%;}#sk-container-id-2 div.sk-parallel-item:last-child::after {align-self: flex-start;width: 50%;}#sk-container-id-2 div.sk-parallel-item:only-child::after {width: 0;}#sk-container-id-2 div.sk-dashed-wrapped {border: 1px dashed gray;margin: 0 0.4em 0.5em 0.4em;box-sizing: border-box;padding-bottom: 0.4em;background-color: white;}#sk-container-id-2 div.sk-label label {font-family: monospace;font-weight: bold;display: inline-block;line-height: 1.2em;}#sk-container-id-2 div.sk-label-container {text-align: center;}#sk-container-id-2 div.sk-container {/* jupyter's `normalize.less` sets `[hidden] { display: none; }` but bootstrap.min.css set `[hidden] { display: none !important; }` so we also need the `!important` here to be able to override the default hidden behavior on the sphinx rendered scikit-learn.org. See: https://github.com/scikit-learn/scikit-learn/issues/21755 */display: inline-block !important;position: relative;}#sk-container-id-2 div.sk-text-repr-fallback {display: none;}</style><div id=\"sk-container-id-2\" class=\"sk-top-container\"><div class=\"sk-text-repr-fallback\"><pre>GridSearchCV(cv=5, estimator=RandomForestClassifier(random_state=42), n_jobs=-1,\n",
       "             param_grid={&#x27;max_depth&#x27;: range(10, 50, 10),\n",
       "                         &#x27;n_estimators&#x27;: range(25, 100, 25)},\n",
       "             verbose=1)</pre><b>In a Jupyter environment, please rerun this cell to show the HTML representation or trust the notebook. <br />On GitHub, the HTML representation is unable to render, please try loading this page with nbviewer.org.</b></div><div class=\"sk-container\" hidden><div class=\"sk-item sk-dashed-wrapped\"><div class=\"sk-label-container\"><div class=\"sk-label sk-toggleable\"><input class=\"sk-toggleable__control sk-hidden--visually\" id=\"sk-estimator-id-2\" type=\"checkbox\" ><label for=\"sk-estimator-id-2\" class=\"sk-toggleable__label sk-toggleable__label-arrow\">GridSearchCV</label><div class=\"sk-toggleable__content\"><pre>GridSearchCV(cv=5, estimator=RandomForestClassifier(random_state=42), n_jobs=-1,\n",
       "             param_grid={&#x27;max_depth&#x27;: range(10, 50, 10),\n",
       "                         &#x27;n_estimators&#x27;: range(25, 100, 25)},\n",
       "             verbose=1)</pre></div></div></div><div class=\"sk-parallel\"><div class=\"sk-parallel-item\"><div class=\"sk-item\"><div class=\"sk-label-container\"><div class=\"sk-label sk-toggleable\"><input class=\"sk-toggleable__control sk-hidden--visually\" id=\"sk-estimator-id-3\" type=\"checkbox\" ><label for=\"sk-estimator-id-3\" class=\"sk-toggleable__label sk-toggleable__label-arrow\">estimator: RandomForestClassifier</label><div class=\"sk-toggleable__content\"><pre>RandomForestClassifier(random_state=42)</pre></div></div></div><div class=\"sk-serial\"><div class=\"sk-item\"><div class=\"sk-estimator sk-toggleable\"><input class=\"sk-toggleable__control sk-hidden--visually\" id=\"sk-estimator-id-4\" type=\"checkbox\" ><label for=\"sk-estimator-id-4\" class=\"sk-toggleable__label sk-toggleable__label-arrow\">RandomForestClassifier</label><div class=\"sk-toggleable__content\"><pre>RandomForestClassifier(random_state=42)</pre></div></div></div></div></div></div></div></div></div></div>"
      ],
      "text/plain": [
       "GridSearchCV(cv=5, estimator=RandomForestClassifier(random_state=42), n_jobs=-1,\n",
       "             param_grid={'max_depth': range(10, 50, 10),\n",
       "                         'n_estimators': range(25, 100, 25)},\n",
       "             verbose=1)"
      ]
     },
     "execution_count": 71,
     "metadata": {},
     "output_type": "execute_result"
    }
   ],
   "source": [
    "#test different combinations of hyperparameters for a classifier\n",
    "model = GridSearchCV(\n",
    "     clf,\n",
    "    param_grid=params,\n",
    "    cv=5,\n",
    "    n_jobs=-1,\n",
    "    verbose=1\n",
    ")\n",
    "model"
   ]
  },
  {
   "cell_type": "code",
   "execution_count": 72,
   "id": "ee61109e-9503-49e9-bafa-152a85e78734",
   "metadata": {},
   "outputs": [
    {
     "name": "stdout",
     "output_type": "stream",
     "text": [
      "Fitting 5 folds for each of 12 candidates, totalling 60 fits\n"
     ]
    },
    {
     "data": {
      "text/html": [
       "<style>#sk-container-id-3 {color: black;background-color: white;}#sk-container-id-3 pre{padding: 0;}#sk-container-id-3 div.sk-toggleable {background-color: white;}#sk-container-id-3 label.sk-toggleable__label {cursor: pointer;display: block;width: 100%;margin-bottom: 0;padding: 0.3em;box-sizing: border-box;text-align: center;}#sk-container-id-3 label.sk-toggleable__label-arrow:before {content: \"▸\";float: left;margin-right: 0.25em;color: #696969;}#sk-container-id-3 label.sk-toggleable__label-arrow:hover:before {color: black;}#sk-container-id-3 div.sk-estimator:hover label.sk-toggleable__label-arrow:before {color: black;}#sk-container-id-3 div.sk-toggleable__content {max-height: 0;max-width: 0;overflow: hidden;text-align: left;background-color: #f0f8ff;}#sk-container-id-3 div.sk-toggleable__content pre {margin: 0.2em;color: black;border-radius: 0.25em;background-color: #f0f8ff;}#sk-container-id-3 input.sk-toggleable__control:checked~div.sk-toggleable__content {max-height: 200px;max-width: 100%;overflow: auto;}#sk-container-id-3 input.sk-toggleable__control:checked~label.sk-toggleable__label-arrow:before {content: \"▾\";}#sk-container-id-3 div.sk-estimator input.sk-toggleable__control:checked~label.sk-toggleable__label {background-color: #d4ebff;}#sk-container-id-3 div.sk-label input.sk-toggleable__control:checked~label.sk-toggleable__label {background-color: #d4ebff;}#sk-container-id-3 input.sk-hidden--visually {border: 0;clip: rect(1px 1px 1px 1px);clip: rect(1px, 1px, 1px, 1px);height: 1px;margin: -1px;overflow: hidden;padding: 0;position: absolute;width: 1px;}#sk-container-id-3 div.sk-estimator {font-family: monospace;background-color: #f0f8ff;border: 1px dotted black;border-radius: 0.25em;box-sizing: border-box;margin-bottom: 0.5em;}#sk-container-id-3 div.sk-estimator:hover {background-color: #d4ebff;}#sk-container-id-3 div.sk-parallel-item::after {content: \"\";width: 100%;border-bottom: 1px solid gray;flex-grow: 1;}#sk-container-id-3 div.sk-label:hover label.sk-toggleable__label {background-color: #d4ebff;}#sk-container-id-3 div.sk-serial::before {content: \"\";position: absolute;border-left: 1px solid gray;box-sizing: border-box;top: 0;bottom: 0;left: 50%;z-index: 0;}#sk-container-id-3 div.sk-serial {display: flex;flex-direction: column;align-items: center;background-color: white;padding-right: 0.2em;padding-left: 0.2em;position: relative;}#sk-container-id-3 div.sk-item {position: relative;z-index: 1;}#sk-container-id-3 div.sk-parallel {display: flex;align-items: stretch;justify-content: center;background-color: white;position: relative;}#sk-container-id-3 div.sk-item::before, #sk-container-id-3 div.sk-parallel-item::before {content: \"\";position: absolute;border-left: 1px solid gray;box-sizing: border-box;top: 0;bottom: 0;left: 50%;z-index: -1;}#sk-container-id-3 div.sk-parallel-item {display: flex;flex-direction: column;z-index: 1;position: relative;background-color: white;}#sk-container-id-3 div.sk-parallel-item:first-child::after {align-self: flex-end;width: 50%;}#sk-container-id-3 div.sk-parallel-item:last-child::after {align-self: flex-start;width: 50%;}#sk-container-id-3 div.sk-parallel-item:only-child::after {width: 0;}#sk-container-id-3 div.sk-dashed-wrapped {border: 1px dashed gray;margin: 0 0.4em 0.5em 0.4em;box-sizing: border-box;padding-bottom: 0.4em;background-color: white;}#sk-container-id-3 div.sk-label label {font-family: monospace;font-weight: bold;display: inline-block;line-height: 1.2em;}#sk-container-id-3 div.sk-label-container {text-align: center;}#sk-container-id-3 div.sk-container {/* jupyter's `normalize.less` sets `[hidden] { display: none; }` but bootstrap.min.css set `[hidden] { display: none !important; }` so we also need the `!important` here to be able to override the default hidden behavior on the sphinx rendered scikit-learn.org. See: https://github.com/scikit-learn/scikit-learn/issues/21755 */display: inline-block !important;position: relative;}#sk-container-id-3 div.sk-text-repr-fallback {display: none;}</style><div id=\"sk-container-id-3\" class=\"sk-top-container\"><div class=\"sk-text-repr-fallback\"><pre>GridSearchCV(cv=5, estimator=RandomForestClassifier(random_state=42), n_jobs=-1,\n",
       "             param_grid={&#x27;max_depth&#x27;: range(10, 50, 10),\n",
       "                         &#x27;n_estimators&#x27;: range(25, 100, 25)},\n",
       "             verbose=1)</pre><b>In a Jupyter environment, please rerun this cell to show the HTML representation or trust the notebook. <br />On GitHub, the HTML representation is unable to render, please try loading this page with nbviewer.org.</b></div><div class=\"sk-container\" hidden><div class=\"sk-item sk-dashed-wrapped\"><div class=\"sk-label-container\"><div class=\"sk-label sk-toggleable\"><input class=\"sk-toggleable__control sk-hidden--visually\" id=\"sk-estimator-id-5\" type=\"checkbox\" ><label for=\"sk-estimator-id-5\" class=\"sk-toggleable__label sk-toggleable__label-arrow\">GridSearchCV</label><div class=\"sk-toggleable__content\"><pre>GridSearchCV(cv=5, estimator=RandomForestClassifier(random_state=42), n_jobs=-1,\n",
       "             param_grid={&#x27;max_depth&#x27;: range(10, 50, 10),\n",
       "                         &#x27;n_estimators&#x27;: range(25, 100, 25)},\n",
       "             verbose=1)</pre></div></div></div><div class=\"sk-parallel\"><div class=\"sk-parallel-item\"><div class=\"sk-item\"><div class=\"sk-label-container\"><div class=\"sk-label sk-toggleable\"><input class=\"sk-toggleable__control sk-hidden--visually\" id=\"sk-estimator-id-6\" type=\"checkbox\" ><label for=\"sk-estimator-id-6\" class=\"sk-toggleable__label sk-toggleable__label-arrow\">estimator: RandomForestClassifier</label><div class=\"sk-toggleable__content\"><pre>RandomForestClassifier(random_state=42)</pre></div></div></div><div class=\"sk-serial\"><div class=\"sk-item\"><div class=\"sk-estimator sk-toggleable\"><input class=\"sk-toggleable__control sk-hidden--visually\" id=\"sk-estimator-id-7\" type=\"checkbox\" ><label for=\"sk-estimator-id-7\" class=\"sk-toggleable__label sk-toggleable__label-arrow\">RandomForestClassifier</label><div class=\"sk-toggleable__content\"><pre>RandomForestClassifier(random_state=42)</pre></div></div></div></div></div></div></div></div></div></div>"
      ],
      "text/plain": [
       "GridSearchCV(cv=5, estimator=RandomForestClassifier(random_state=42), n_jobs=-1,\n",
       "             param_grid={'max_depth': range(10, 50, 10),\n",
       "                         'n_estimators': range(25, 100, 25)},\n",
       "             verbose=1)"
      ]
     },
     "execution_count": 72,
     "metadata": {},
     "output_type": "execute_result"
    }
   ],
   "source": [
    "model.fit(X_train_over, y_train_over)"
   ]
  },
  {
   "cell_type": "code",
   "execution_count": 73,
   "id": "51733558-ba32-468a-8db1-3c3e803074b5",
   "metadata": {},
   "outputs": [
    {
     "data": {
      "text/html": [
       "<div>\n",
       "<style scoped>\n",
       "    .dataframe tbody tr th:only-of-type {\n",
       "        vertical-align: middle;\n",
       "    }\n",
       "\n",
       "    .dataframe tbody tr th {\n",
       "        vertical-align: top;\n",
       "    }\n",
       "\n",
       "    .dataframe thead th {\n",
       "        text-align: right;\n",
       "    }\n",
       "</style>\n",
       "<table border=\"1\" class=\"dataframe\">\n",
       "  <thead>\n",
       "    <tr style=\"text-align: right;\">\n",
       "      <th></th>\n",
       "      <th>mean_fit_time</th>\n",
       "      <th>std_fit_time</th>\n",
       "      <th>mean_score_time</th>\n",
       "      <th>std_score_time</th>\n",
       "      <th>param_max_depth</th>\n",
       "      <th>param_n_estimators</th>\n",
       "      <th>params</th>\n",
       "      <th>split0_test_score</th>\n",
       "      <th>split1_test_score</th>\n",
       "      <th>split2_test_score</th>\n",
       "      <th>split3_test_score</th>\n",
       "      <th>split4_test_score</th>\n",
       "      <th>mean_test_score</th>\n",
       "      <th>std_test_score</th>\n",
       "      <th>rank_test_score</th>\n",
       "    </tr>\n",
       "  </thead>\n",
       "  <tbody>\n",
       "    <tr>\n",
       "      <th>0</th>\n",
       "      <td>0.650032</td>\n",
       "      <td>0.020444</td>\n",
       "      <td>0.006321</td>\n",
       "      <td>0.001795</td>\n",
       "      <td>10</td>\n",
       "      <td>25</td>\n",
       "      <td>{'max_depth': 10, 'n_estimators': 25}</td>\n",
       "      <td>0.979196</td>\n",
       "      <td>0.977778</td>\n",
       "      <td>0.980605</td>\n",
       "      <td>0.978713</td>\n",
       "      <td>0.980132</td>\n",
       "      <td>0.979285</td>\n",
       "      <td>0.001007</td>\n",
       "      <td>11</td>\n",
       "    </tr>\n",
       "    <tr>\n",
       "      <th>1</th>\n",
       "      <td>1.260833</td>\n",
       "      <td>0.044509</td>\n",
       "      <td>0.012384</td>\n",
       "      <td>0.003490</td>\n",
       "      <td>10</td>\n",
       "      <td>50</td>\n",
       "      <td>{'max_depth': 10, 'n_estimators': 50}</td>\n",
       "      <td>0.979669</td>\n",
       "      <td>0.979196</td>\n",
       "      <td>0.979659</td>\n",
       "      <td>0.979186</td>\n",
       "      <td>0.979186</td>\n",
       "      <td>0.979379</td>\n",
       "      <td>0.000233</td>\n",
       "      <td>10</td>\n",
       "    </tr>\n",
       "    <tr>\n",
       "      <th>2</th>\n",
       "      <td>2.009048</td>\n",
       "      <td>0.067962</td>\n",
       "      <td>0.018457</td>\n",
       "      <td>0.002361</td>\n",
       "      <td>10</td>\n",
       "      <td>75</td>\n",
       "      <td>{'max_depth': 10, 'n_estimators': 75}</td>\n",
       "      <td>0.979196</td>\n",
       "      <td>0.980142</td>\n",
       "      <td>0.977767</td>\n",
       "      <td>0.979659</td>\n",
       "      <td>0.978240</td>\n",
       "      <td>0.979001</td>\n",
       "      <td>0.000880</td>\n",
       "      <td>12</td>\n",
       "    </tr>\n",
       "    <tr>\n",
       "      <th>3</th>\n",
       "      <td>0.771777</td>\n",
       "      <td>0.124184</td>\n",
       "      <td>0.006552</td>\n",
       "      <td>0.002955</td>\n",
       "      <td>20</td>\n",
       "      <td>25</td>\n",
       "      <td>{'max_depth': 20, 'n_estimators': 25}</td>\n",
       "      <td>0.985343</td>\n",
       "      <td>0.985816</td>\n",
       "      <td>0.990066</td>\n",
       "      <td>0.988647</td>\n",
       "      <td>0.988647</td>\n",
       "      <td>0.987704</td>\n",
       "      <td>0.001817</td>\n",
       "      <td>9</td>\n",
       "    </tr>\n",
       "    <tr>\n",
       "      <th>4</th>\n",
       "      <td>1.405343</td>\n",
       "      <td>0.049848</td>\n",
       "      <td>0.014362</td>\n",
       "      <td>0.004642</td>\n",
       "      <td>20</td>\n",
       "      <td>50</td>\n",
       "      <td>{'max_depth': 20, 'n_estimators': 50}</td>\n",
       "      <td>0.986761</td>\n",
       "      <td>0.987707</td>\n",
       "      <td>0.989593</td>\n",
       "      <td>0.990066</td>\n",
       "      <td>0.987701</td>\n",
       "      <td>0.988366</td>\n",
       "      <td>0.001253</td>\n",
       "      <td>8</td>\n",
       "    </tr>\n",
       "  </tbody>\n",
       "</table>\n",
       "</div>"
      ],
      "text/plain": [
       "   mean_fit_time  std_fit_time  mean_score_time  std_score_time  \\\n",
       "0       0.650032      0.020444         0.006321        0.001795   \n",
       "1       1.260833      0.044509         0.012384        0.003490   \n",
       "2       2.009048      0.067962         0.018457        0.002361   \n",
       "3       0.771777      0.124184         0.006552        0.002955   \n",
       "4       1.405343      0.049848         0.014362        0.004642   \n",
       "\n",
       "  param_max_depth param_n_estimators                                 params  \\\n",
       "0              10                 25  {'max_depth': 10, 'n_estimators': 25}   \n",
       "1              10                 50  {'max_depth': 10, 'n_estimators': 50}   \n",
       "2              10                 75  {'max_depth': 10, 'n_estimators': 75}   \n",
       "3              20                 25  {'max_depth': 20, 'n_estimators': 25}   \n",
       "4              20                 50  {'max_depth': 20, 'n_estimators': 50}   \n",
       "\n",
       "   split0_test_score  split1_test_score  split2_test_score  split3_test_score  \\\n",
       "0           0.979196           0.977778           0.980605           0.978713   \n",
       "1           0.979669           0.979196           0.979659           0.979186   \n",
       "2           0.979196           0.980142           0.977767           0.979659   \n",
       "3           0.985343           0.985816           0.990066           0.988647   \n",
       "4           0.986761           0.987707           0.989593           0.990066   \n",
       "\n",
       "   split4_test_score  mean_test_score  std_test_score  rank_test_score  \n",
       "0           0.980132         0.979285        0.001007               11  \n",
       "1           0.979186         0.979379        0.000233               10  \n",
       "2           0.978240         0.979001        0.000880               12  \n",
       "3           0.988647         0.987704        0.001817                9  \n",
       "4           0.987701         0.988366        0.001253                8  "
      ]
     },
     "execution_count": 73,
     "metadata": {},
     "output_type": "execute_result"
    }
   ],
   "source": [
    "#results\n",
    "cv_results = pd.DataFrame(model.cv_results_)\n",
    "cv_results.head(5)"
   ]
  },
  {
   "cell_type": "code",
   "execution_count": 74,
   "id": "15ea2439-ac21-4139-a237-400e82f842ed",
   "metadata": {},
   "outputs": [
    {
     "name": "stdout",
     "output_type": "stream",
     "text": [
      "{'max_depth': 40, 'n_estimators': 50}\n"
     ]
    }
   ],
   "source": [
    "#select the best perfoming model\n",
    "best_params = model.best_params_\n",
    "print(best_params)"
   ]
  },
  {
   "cell_type": "markdown",
   "id": "9613266c-4164-44fe-8107-4030a3fcee77",
   "metadata": {},
   "source": [
    "# Model Evaluation"
   ]
  },
  {
   "cell_type": "code",
   "execution_count": 75,
   "id": "8c1547d9-3843-40f6-9f11-fc020255e318",
   "metadata": {},
   "outputs": [
    {
     "name": "stdout",
     "output_type": "stream",
     "text": [
      "Model Training Accuracy: 1.0\n",
      "Model Test Accuracy: 0.9663\n"
     ]
    }
   ],
   "source": [
    "acc_train = model.score(X_train, y_train)\n",
    "acc_test =  model.score(X_test, y_test)\n",
    "\n",
    "print(\"Model Training Accuracy:\", round(acc_train, 4))\n",
    "print(\"Model Test Accuracy:\", round(acc_test, 4))"
   ]
  },
  {
   "cell_type": "markdown",
   "id": "8415966d-1f89-49c8-a10d-562aaef55414",
   "metadata": {},
   "source": [
    "The model did perform perfect usiing the training data which indicates over-fitting. But, when testing the model, it did preform very well with unseen data and the consequenses of overfitting might be irrelevant. "
   ]
  },
  {
   "cell_type": "code",
   "execution_count": 76,
   "id": "43fa08a0-9a4e-4da7-9f12-b9f68e6bd019",
   "metadata": {},
   "outputs": [
    {
     "data": {
      "text/plain": [
       "<sklearn.metrics._plot.confusion_matrix.ConfusionMatrixDisplay at 0x1774a5db0>"
      ]
     },
     "execution_count": 76,
     "metadata": {},
     "output_type": "execute_result"
    },
    {
     "data": {
      "image/png": "[encoded data removed]",
      "text/plain": [
       "<Figure size 640x480 with 2 Axes>"
      ]
     },
     "metadata": {},
     "output_type": "display_data"
    }
   ],
   "source": [
    "ConfusionMatrixDisplay.from_estimator(model, X_test, y_test)"
   ]
  },
  {
   "cell_type": "code",
   "execution_count": 77,
   "id": "3d90a984-aae9-48b4-bdd0-c67c964e6481",
   "metadata": {},
   "outputs": [
    {
     "name": "stdout",
     "output_type": "stream",
     "text": [
      "              precision    recall  f1-score   support\n",
      "\n",
      "           0       0.97      0.99      0.98      1313\n",
      "           1       0.59      0.31      0.41        51\n",
      "\n",
      "    accuracy                           0.97      1364\n",
      "   macro avg       0.78      0.65      0.70      1364\n",
      "weighted avg       0.96      0.97      0.96      1364\n",
      "\n"
     ]
    }
   ],
   "source": [
    "class_report = classification_report(y_test, model.predict(X_test))\n",
    "print(class_report)"
   ]
  },
  {
   "cell_type": "markdown",
   "id": "66eb921d-0593-4e06-98f3-785eea069882",
   "metadata": {},
   "source": [
    "Class 0 (Negative class):\n",
    "- Precision: 0.97 — 97% of the time, when the model predicted class 0, it was correct.\n",
    "- Recall: 0.99 — 99% of the actual class 0 instances were correctly predicted by the model.\n",
    "- F1-score: 0.98 — A balanced score between precision and recall, indicating excellent overall performance for class 0.\n",
    "- Support: 1313 — There are 1313 instances of class 0 in the test data.\n",
    "\n",
    "Class 1 (Positive class):\n",
    "- Precision: 0.59 — 59% of the time, when the model predicted class 1, it was correct. This is relatively low.\n",
    "- Recall: 0.31 — Only 31% of the actual class 1 instances were correctly identified by the model. This is quite low, indicating the model  misses a significant portion of positive instances.\n",
    "- F1-score: 0.41 — This is a moderate score, reflecting the poor performance in both precision and recall for class 1.\n",
    "- Support: 51 — There are only 51 instances of class 1 in the test data, which is a much smaller number compared to class 0.\n",
    "\n",
    "Overall Accuracy:\n",
    "- Accuracy: 0.97 — The model correctly predicted the class for 97% of all instances, which seems very high, but this is heavily influenced by the imbalance in the data (more instances of class 0)."
   ]
  },
  {
   "cell_type": "code",
   "execution_count": 89,
   "id": "1b20c6a7-4a4b-4ed0-9ffd-ead4647d2dc8",
   "metadata": {},
   "outputs": [
    {
     "data": {
      "image/png": "[encoded data removed]",
      "text/plain": [
       "<Figure size 1000x600 with 1 Axes>"
      ]
     },
     "metadata": {},
     "output_type": "display_data"
    }
   ],
   "source": [
    "features = X_train_over.columns\n",
    "\n",
    "# Extract importances directly from the RandomForestClassifier model\n",
    "importances = model.best_estimator_.feature_importances_\n",
    "\n",
    "# Create a series with feature names and importances\n",
    "feat_imp = pd.Series(importances, index=features).sort_values(ascending=False)\n",
    "\n",
    "# Plot the 10 most important features\n",
    "feat_imp.sort_values().tail(10).plot(kind='barh', figsize=(10, 6))\n",
    "\n",
    "# Adding labels and title\n",
    "plt.xlabel(\"Gini Importance\")\n",
    "plt.ylabel(\"Feature\")\n",
    "plt.title(\"Top 10 Feature Importances\")\n",
    "plt.show()"
   ]
  },
  {
   "cell_type": "code",
   "execution_count": 91,
   "id": "bfeb0347-0dc9-4d81-a246-40772ea2f515",
   "metadata": {},
   "outputs": [
    {
     "data": {
      "text/plain": [
       "ROA(B) before interest and depreciation after tax    0.028199\n",
       "Net Income to Stockholder's Equity                   0.029447\n",
       "Liability to Equity                                  0.030999\n",
       "Continuous interest rate (after tax)                 0.033027\n",
       "Persistent EPS in the Last Four Seasons              0.036779\n",
       "Total debt/Total net worth                           0.041459\n",
       "Borrowing dependency                                 0.050397\n",
       "Retained Earnings to Total Assets                    0.050906\n",
       "Total income/Total expense                           0.052894\n",
       "Net Income to Total Assets                           0.068222\n",
       "dtype: float64"
      ]
     },
     "execution_count": 91,
     "metadata": {},
     "output_type": "execute_result"
    }
   ],
   "source": [
    "importances = model.best_estimator_.feature_importances_\n",
    "feat_imp = pd.Series(importances, index=features).sort_values(ascending=False)\n",
    "feat_imp.sort_values().tail(10)"
   ]
  },
  {
   "cell_type": "markdown",
   "id": "9060c941-8ffb-4d51-b724-f35d38cd4801",
   "metadata": {},
   "source": [
    "Net Income to Total Assets (Importance: 0.068222):\n",
    "- This is the most important feature among the last 10, with a relatively high importance score of 0.068222. It suggests that this feature (Net Income relative to Total Assets) has a significant influence on the model's predictions. This makes sense becasue ROA shows the percentage of how profitable a company's assets are generating in revenue. If a company has a low ROA ratio, it could indicate ineffiencies in assets or issues with expences/revenue.\n",
    "\n",
    "Total income/Total expense (Importance: 0.052894):\n",
    "- This feature also has a moderate level of importance (0.052894). This suggests that the relationship between total income and total expenses has some effect on the model's output, although it is not as crucial as \"Net Income to Total Assets.\"\n",
    "\n",
    "Retained Earnings to Total Assets (Importance: 0.050906):\n",
    "- Similar to the above, this ratio (retained earnings relative to total assets) has moderate importance in predicting the target variable."
   ]
  },
  {
   "cell_type": "code",
   "execution_count": null,
   "id": "06034f4f-a03f-49d5-8c82-ce25dae6b56e",
   "metadata": {},
   "outputs": [],
   "source": []
  }
 ],
 "metadata": {
  "kernelspec": {
   "display_name": "Python 3 (ipykernel)",
   "language": "python",
   "name": "python3"
  },
  "language_info": {
   "codemirror_mode": {
    "name": "ipython",
    "version": 3
   },
   "file_extension": ".py",
   "mimetype": "text/x-python",
   "name": "python",
   "nbconvert_exporter": "python",
   "pygments_lexer": "ipython3",
   "version": "3.10.9"
  }
 },
 "nbformat": 4,
 "nbformat_minor": 5
}
